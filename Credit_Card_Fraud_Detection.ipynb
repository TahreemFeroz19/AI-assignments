{
  "nbformat": 4,
  "nbformat_minor": 0,
  "metadata": {
    "colab": {
      "name": "Credit Card Fraud Detection.ipynb",
      "provenance": []
    },
    "kernelspec": {
      "name": "python3",
      "display_name": "Python 3"
    },
    "language_info": {
      "name": "python"
    }
  },
  "cells": [
    {
      "cell_type": "code",
      "metadata": {
        "id": "n_Erf4pv5dcF"
      },
      "source": [
        "import pandas as pd\n",
        "import numpy as np\n",
        "import matplotlib.pyplot as plt\n",
        "import tensorflow as tf"
      ],
      "execution_count": 2,
      "outputs": []
    },
    {
      "cell_type": "code",
      "metadata": {
        "colab": {
          "base_uri": "https://localhost:8080/"
        },
        "id": "xpYZmWRb69Xg",
        "outputId": "85b842ee-468e-4cfa-f67c-ba923c3db7c5"
      },
      "source": [
        "from google.colab import drive\n",
        "drive.mount('/content/drive')"
      ],
      "execution_count": 3,
      "outputs": [
        {
          "output_type": "stream",
          "text": [
            "Mounted at /content/drive\n"
          ],
          "name": "stdout"
        }
      ]
    },
    {
      "cell_type": "code",
      "metadata": {
        "id": "xrVIZ6JK6EWJ"
      },
      "source": [
        "data = pd.read_csv('/content/drive/MyDrive/creditcard.csv')"
      ],
      "execution_count": 5,
      "outputs": []
    },
    {
      "cell_type": "code",
      "metadata": {
        "colab": {
          "base_uri": "https://localhost:8080/",
          "height": 317
        },
        "id": "J7nbBa_l64Kw",
        "outputId": "9f22b4bb-1a2e-4fed-b238-69f654207913"
      },
      "source": [
        "data.describe()"
      ],
      "execution_count": 6,
      "outputs": [
        {
          "output_type": "execute_result",
          "data": {
            "text/html": [
              "<div>\n",
              "<style scoped>\n",
              "    .dataframe tbody tr th:only-of-type {\n",
              "        vertical-align: middle;\n",
              "    }\n",
              "\n",
              "    .dataframe tbody tr th {\n",
              "        vertical-align: top;\n",
              "    }\n",
              "\n",
              "    .dataframe thead th {\n",
              "        text-align: right;\n",
              "    }\n",
              "</style>\n",
              "<table border=\"1\" class=\"dataframe\">\n",
              "  <thead>\n",
              "    <tr style=\"text-align: right;\">\n",
              "      <th></th>\n",
              "      <th>Time</th>\n",
              "      <th>V1</th>\n",
              "      <th>V2</th>\n",
              "      <th>V3</th>\n",
              "      <th>V4</th>\n",
              "      <th>V5</th>\n",
              "      <th>V6</th>\n",
              "      <th>V7</th>\n",
              "      <th>V8</th>\n",
              "      <th>V9</th>\n",
              "      <th>V10</th>\n",
              "      <th>V11</th>\n",
              "      <th>V12</th>\n",
              "      <th>V13</th>\n",
              "      <th>V14</th>\n",
              "      <th>V15</th>\n",
              "      <th>V16</th>\n",
              "      <th>V17</th>\n",
              "      <th>V18</th>\n",
              "      <th>V19</th>\n",
              "      <th>V20</th>\n",
              "      <th>V21</th>\n",
              "      <th>V22</th>\n",
              "      <th>V23</th>\n",
              "      <th>V24</th>\n",
              "      <th>V25</th>\n",
              "      <th>V26</th>\n",
              "      <th>V27</th>\n",
              "      <th>V28</th>\n",
              "      <th>Amount</th>\n",
              "      <th>Class</th>\n",
              "    </tr>\n",
              "  </thead>\n",
              "  <tbody>\n",
              "    <tr>\n",
              "      <th>count</th>\n",
              "      <td>284807.000000</td>\n",
              "      <td>2.848070e+05</td>\n",
              "      <td>2.848070e+05</td>\n",
              "      <td>2.848070e+05</td>\n",
              "      <td>2.848070e+05</td>\n",
              "      <td>2.848070e+05</td>\n",
              "      <td>2.848070e+05</td>\n",
              "      <td>2.848070e+05</td>\n",
              "      <td>2.848070e+05</td>\n",
              "      <td>2.848070e+05</td>\n",
              "      <td>2.848070e+05</td>\n",
              "      <td>2.848070e+05</td>\n",
              "      <td>2.848070e+05</td>\n",
              "      <td>2.848070e+05</td>\n",
              "      <td>2.848070e+05</td>\n",
              "      <td>2.848070e+05</td>\n",
              "      <td>2.848070e+05</td>\n",
              "      <td>2.848070e+05</td>\n",
              "      <td>2.848070e+05</td>\n",
              "      <td>2.848070e+05</td>\n",
              "      <td>2.848070e+05</td>\n",
              "      <td>2.848070e+05</td>\n",
              "      <td>2.848070e+05</td>\n",
              "      <td>2.848070e+05</td>\n",
              "      <td>2.848070e+05</td>\n",
              "      <td>2.848070e+05</td>\n",
              "      <td>2.848070e+05</td>\n",
              "      <td>2.848070e+05</td>\n",
              "      <td>2.848070e+05</td>\n",
              "      <td>284807.000000</td>\n",
              "      <td>284807.000000</td>\n",
              "    </tr>\n",
              "    <tr>\n",
              "      <th>mean</th>\n",
              "      <td>94813.859575</td>\n",
              "      <td>3.919560e-15</td>\n",
              "      <td>5.688174e-16</td>\n",
              "      <td>-8.769071e-15</td>\n",
              "      <td>2.782312e-15</td>\n",
              "      <td>-1.552563e-15</td>\n",
              "      <td>2.010663e-15</td>\n",
              "      <td>-1.694249e-15</td>\n",
              "      <td>-1.927028e-16</td>\n",
              "      <td>-3.137024e-15</td>\n",
              "      <td>1.768627e-15</td>\n",
              "      <td>9.170318e-16</td>\n",
              "      <td>-1.810658e-15</td>\n",
              "      <td>1.693438e-15</td>\n",
              "      <td>1.479045e-15</td>\n",
              "      <td>3.482336e-15</td>\n",
              "      <td>1.392007e-15</td>\n",
              "      <td>-7.528491e-16</td>\n",
              "      <td>4.328772e-16</td>\n",
              "      <td>9.049732e-16</td>\n",
              "      <td>5.085503e-16</td>\n",
              "      <td>1.537294e-16</td>\n",
              "      <td>7.959909e-16</td>\n",
              "      <td>5.367590e-16</td>\n",
              "      <td>4.458112e-15</td>\n",
              "      <td>1.453003e-15</td>\n",
              "      <td>1.699104e-15</td>\n",
              "      <td>-3.660161e-16</td>\n",
              "      <td>-1.206049e-16</td>\n",
              "      <td>88.349619</td>\n",
              "      <td>0.001727</td>\n",
              "    </tr>\n",
              "    <tr>\n",
              "      <th>std</th>\n",
              "      <td>47488.145955</td>\n",
              "      <td>1.958696e+00</td>\n",
              "      <td>1.651309e+00</td>\n",
              "      <td>1.516255e+00</td>\n",
              "      <td>1.415869e+00</td>\n",
              "      <td>1.380247e+00</td>\n",
              "      <td>1.332271e+00</td>\n",
              "      <td>1.237094e+00</td>\n",
              "      <td>1.194353e+00</td>\n",
              "      <td>1.098632e+00</td>\n",
              "      <td>1.088850e+00</td>\n",
              "      <td>1.020713e+00</td>\n",
              "      <td>9.992014e-01</td>\n",
              "      <td>9.952742e-01</td>\n",
              "      <td>9.585956e-01</td>\n",
              "      <td>9.153160e-01</td>\n",
              "      <td>8.762529e-01</td>\n",
              "      <td>8.493371e-01</td>\n",
              "      <td>8.381762e-01</td>\n",
              "      <td>8.140405e-01</td>\n",
              "      <td>7.709250e-01</td>\n",
              "      <td>7.345240e-01</td>\n",
              "      <td>7.257016e-01</td>\n",
              "      <td>6.244603e-01</td>\n",
              "      <td>6.056471e-01</td>\n",
              "      <td>5.212781e-01</td>\n",
              "      <td>4.822270e-01</td>\n",
              "      <td>4.036325e-01</td>\n",
              "      <td>3.300833e-01</td>\n",
              "      <td>250.120109</td>\n",
              "      <td>0.041527</td>\n",
              "    </tr>\n",
              "    <tr>\n",
              "      <th>min</th>\n",
              "      <td>0.000000</td>\n",
              "      <td>-5.640751e+01</td>\n",
              "      <td>-7.271573e+01</td>\n",
              "      <td>-4.832559e+01</td>\n",
              "      <td>-5.683171e+00</td>\n",
              "      <td>-1.137433e+02</td>\n",
              "      <td>-2.616051e+01</td>\n",
              "      <td>-4.355724e+01</td>\n",
              "      <td>-7.321672e+01</td>\n",
              "      <td>-1.343407e+01</td>\n",
              "      <td>-2.458826e+01</td>\n",
              "      <td>-4.797473e+00</td>\n",
              "      <td>-1.868371e+01</td>\n",
              "      <td>-5.791881e+00</td>\n",
              "      <td>-1.921433e+01</td>\n",
              "      <td>-4.498945e+00</td>\n",
              "      <td>-1.412985e+01</td>\n",
              "      <td>-2.516280e+01</td>\n",
              "      <td>-9.498746e+00</td>\n",
              "      <td>-7.213527e+00</td>\n",
              "      <td>-5.449772e+01</td>\n",
              "      <td>-3.483038e+01</td>\n",
              "      <td>-1.093314e+01</td>\n",
              "      <td>-4.480774e+01</td>\n",
              "      <td>-2.836627e+00</td>\n",
              "      <td>-1.029540e+01</td>\n",
              "      <td>-2.604551e+00</td>\n",
              "      <td>-2.256568e+01</td>\n",
              "      <td>-1.543008e+01</td>\n",
              "      <td>0.000000</td>\n",
              "      <td>0.000000</td>\n",
              "    </tr>\n",
              "    <tr>\n",
              "      <th>25%</th>\n",
              "      <td>54201.500000</td>\n",
              "      <td>-9.203734e-01</td>\n",
              "      <td>-5.985499e-01</td>\n",
              "      <td>-8.903648e-01</td>\n",
              "      <td>-8.486401e-01</td>\n",
              "      <td>-6.915971e-01</td>\n",
              "      <td>-7.682956e-01</td>\n",
              "      <td>-5.540759e-01</td>\n",
              "      <td>-2.086297e-01</td>\n",
              "      <td>-6.430976e-01</td>\n",
              "      <td>-5.354257e-01</td>\n",
              "      <td>-7.624942e-01</td>\n",
              "      <td>-4.055715e-01</td>\n",
              "      <td>-6.485393e-01</td>\n",
              "      <td>-4.255740e-01</td>\n",
              "      <td>-5.828843e-01</td>\n",
              "      <td>-4.680368e-01</td>\n",
              "      <td>-4.837483e-01</td>\n",
              "      <td>-4.988498e-01</td>\n",
              "      <td>-4.562989e-01</td>\n",
              "      <td>-2.117214e-01</td>\n",
              "      <td>-2.283949e-01</td>\n",
              "      <td>-5.423504e-01</td>\n",
              "      <td>-1.618463e-01</td>\n",
              "      <td>-3.545861e-01</td>\n",
              "      <td>-3.171451e-01</td>\n",
              "      <td>-3.269839e-01</td>\n",
              "      <td>-7.083953e-02</td>\n",
              "      <td>-5.295979e-02</td>\n",
              "      <td>5.600000</td>\n",
              "      <td>0.000000</td>\n",
              "    </tr>\n",
              "    <tr>\n",
              "      <th>50%</th>\n",
              "      <td>84692.000000</td>\n",
              "      <td>1.810880e-02</td>\n",
              "      <td>6.548556e-02</td>\n",
              "      <td>1.798463e-01</td>\n",
              "      <td>-1.984653e-02</td>\n",
              "      <td>-5.433583e-02</td>\n",
              "      <td>-2.741871e-01</td>\n",
              "      <td>4.010308e-02</td>\n",
              "      <td>2.235804e-02</td>\n",
              "      <td>-5.142873e-02</td>\n",
              "      <td>-9.291738e-02</td>\n",
              "      <td>-3.275735e-02</td>\n",
              "      <td>1.400326e-01</td>\n",
              "      <td>-1.356806e-02</td>\n",
              "      <td>5.060132e-02</td>\n",
              "      <td>4.807155e-02</td>\n",
              "      <td>6.641332e-02</td>\n",
              "      <td>-6.567575e-02</td>\n",
              "      <td>-3.636312e-03</td>\n",
              "      <td>3.734823e-03</td>\n",
              "      <td>-6.248109e-02</td>\n",
              "      <td>-2.945017e-02</td>\n",
              "      <td>6.781943e-03</td>\n",
              "      <td>-1.119293e-02</td>\n",
              "      <td>4.097606e-02</td>\n",
              "      <td>1.659350e-02</td>\n",
              "      <td>-5.213911e-02</td>\n",
              "      <td>1.342146e-03</td>\n",
              "      <td>1.124383e-02</td>\n",
              "      <td>22.000000</td>\n",
              "      <td>0.000000</td>\n",
              "    </tr>\n",
              "    <tr>\n",
              "      <th>75%</th>\n",
              "      <td>139320.500000</td>\n",
              "      <td>1.315642e+00</td>\n",
              "      <td>8.037239e-01</td>\n",
              "      <td>1.027196e+00</td>\n",
              "      <td>7.433413e-01</td>\n",
              "      <td>6.119264e-01</td>\n",
              "      <td>3.985649e-01</td>\n",
              "      <td>5.704361e-01</td>\n",
              "      <td>3.273459e-01</td>\n",
              "      <td>5.971390e-01</td>\n",
              "      <td>4.539234e-01</td>\n",
              "      <td>7.395934e-01</td>\n",
              "      <td>6.182380e-01</td>\n",
              "      <td>6.625050e-01</td>\n",
              "      <td>4.931498e-01</td>\n",
              "      <td>6.488208e-01</td>\n",
              "      <td>5.232963e-01</td>\n",
              "      <td>3.996750e-01</td>\n",
              "      <td>5.008067e-01</td>\n",
              "      <td>4.589494e-01</td>\n",
              "      <td>1.330408e-01</td>\n",
              "      <td>1.863772e-01</td>\n",
              "      <td>5.285536e-01</td>\n",
              "      <td>1.476421e-01</td>\n",
              "      <td>4.395266e-01</td>\n",
              "      <td>3.507156e-01</td>\n",
              "      <td>2.409522e-01</td>\n",
              "      <td>9.104512e-02</td>\n",
              "      <td>7.827995e-02</td>\n",
              "      <td>77.165000</td>\n",
              "      <td>0.000000</td>\n",
              "    </tr>\n",
              "    <tr>\n",
              "      <th>max</th>\n",
              "      <td>172792.000000</td>\n",
              "      <td>2.454930e+00</td>\n",
              "      <td>2.205773e+01</td>\n",
              "      <td>9.382558e+00</td>\n",
              "      <td>1.687534e+01</td>\n",
              "      <td>3.480167e+01</td>\n",
              "      <td>7.330163e+01</td>\n",
              "      <td>1.205895e+02</td>\n",
              "      <td>2.000721e+01</td>\n",
              "      <td>1.559499e+01</td>\n",
              "      <td>2.374514e+01</td>\n",
              "      <td>1.201891e+01</td>\n",
              "      <td>7.848392e+00</td>\n",
              "      <td>7.126883e+00</td>\n",
              "      <td>1.052677e+01</td>\n",
              "      <td>8.877742e+00</td>\n",
              "      <td>1.731511e+01</td>\n",
              "      <td>9.253526e+00</td>\n",
              "      <td>5.041069e+00</td>\n",
              "      <td>5.591971e+00</td>\n",
              "      <td>3.942090e+01</td>\n",
              "      <td>2.720284e+01</td>\n",
              "      <td>1.050309e+01</td>\n",
              "      <td>2.252841e+01</td>\n",
              "      <td>4.584549e+00</td>\n",
              "      <td>7.519589e+00</td>\n",
              "      <td>3.517346e+00</td>\n",
              "      <td>3.161220e+01</td>\n",
              "      <td>3.384781e+01</td>\n",
              "      <td>25691.160000</td>\n",
              "      <td>1.000000</td>\n",
              "    </tr>\n",
              "  </tbody>\n",
              "</table>\n",
              "</div>"
            ],
            "text/plain": [
              "                Time            V1  ...         Amount          Class\n",
              "count  284807.000000  2.848070e+05  ...  284807.000000  284807.000000\n",
              "mean    94813.859575  3.919560e-15  ...      88.349619       0.001727\n",
              "std     47488.145955  1.958696e+00  ...     250.120109       0.041527\n",
              "min         0.000000 -5.640751e+01  ...       0.000000       0.000000\n",
              "25%     54201.500000 -9.203734e-01  ...       5.600000       0.000000\n",
              "50%     84692.000000  1.810880e-02  ...      22.000000       0.000000\n",
              "75%    139320.500000  1.315642e+00  ...      77.165000       0.000000\n",
              "max    172792.000000  2.454930e+00  ...   25691.160000       1.000000\n",
              "\n",
              "[8 rows x 31 columns]"
            ]
          },
          "metadata": {
            "tags": []
          },
          "execution_count": 6
        }
      ]
    },
    {
      "cell_type": "code",
      "metadata": {
        "colab": {
          "base_uri": "https://localhost:8080/"
        },
        "id": "oKdr6HyZ7Nx4",
        "outputId": "4bd3ec59-4ea5-47ae-9398-f9c028247c2e"
      },
      "source": [
        "%time data.isnull().any()"
      ],
      "execution_count": 7,
      "outputs": [
        {
          "output_type": "stream",
          "text": [
            "CPU times: user 16.1 ms, sys: 1.72 ms, total: 17.8 ms\n",
            "Wall time: 19.3 ms\n"
          ],
          "name": "stdout"
        },
        {
          "output_type": "execute_result",
          "data": {
            "text/plain": [
              "Time      False\n",
              "V1        False\n",
              "V2        False\n",
              "V3        False\n",
              "V4        False\n",
              "V5        False\n",
              "V6        False\n",
              "V7        False\n",
              "V8        False\n",
              "V9        False\n",
              "V10       False\n",
              "V11       False\n",
              "V12       False\n",
              "V13       False\n",
              "V14       False\n",
              "V15       False\n",
              "V16       False\n",
              "V17       False\n",
              "V18       False\n",
              "V19       False\n",
              "V20       False\n",
              "V21       False\n",
              "V22       False\n",
              "V23       False\n",
              "V24       False\n",
              "V25       False\n",
              "V26       False\n",
              "V27       False\n",
              "V28       False\n",
              "Amount    False\n",
              "Class     False\n",
              "dtype: bool"
            ]
          },
          "metadata": {
            "tags": []
          },
          "execution_count": 7
        }
      ]
    },
    {
      "cell_type": "code",
      "metadata": {
        "id": "rU7RJISz7TM4"
      },
      "source": [
        "data.reset_index(drop=True, inplace=True)\n",
        "labels = data.pop('Class')"
      ],
      "execution_count": 8,
      "outputs": []
    },
    {
      "cell_type": "code",
      "metadata": {
        "id": "ItDW8YBY7WvB"
      },
      "source": [
        "data -= data.mean()\n",
        "data /= data.std()"
      ],
      "execution_count": 9,
      "outputs": []
    },
    {
      "cell_type": "code",
      "metadata": {
        "colab": {
          "base_uri": "https://localhost:8080/",
          "height": 385
        },
        "id": "jN4mawDT7bor",
        "outputId": "dea8197c-d1ab-4ede-81da-6dee4dbcec54"
      },
      "source": [
        "data.describe()"
      ],
      "execution_count": 10,
      "outputs": [
        {
          "output_type": "execute_result",
          "data": {
            "text/html": [
              "<div>\n",
              "<style scoped>\n",
              "    .dataframe tbody tr th:only-of-type {\n",
              "        vertical-align: middle;\n",
              "    }\n",
              "\n",
              "    .dataframe tbody tr th {\n",
              "        vertical-align: top;\n",
              "    }\n",
              "\n",
              "    .dataframe thead th {\n",
              "        text-align: right;\n",
              "    }\n",
              "</style>\n",
              "<table border=\"1\" class=\"dataframe\">\n",
              "  <thead>\n",
              "    <tr style=\"text-align: right;\">\n",
              "      <th></th>\n",
              "      <th>Time</th>\n",
              "      <th>V1</th>\n",
              "      <th>V2</th>\n",
              "      <th>V3</th>\n",
              "      <th>V4</th>\n",
              "      <th>V5</th>\n",
              "      <th>V6</th>\n",
              "      <th>V7</th>\n",
              "      <th>V8</th>\n",
              "      <th>V9</th>\n",
              "      <th>V10</th>\n",
              "      <th>V11</th>\n",
              "      <th>V12</th>\n",
              "      <th>V13</th>\n",
              "      <th>V14</th>\n",
              "      <th>V15</th>\n",
              "      <th>V16</th>\n",
              "      <th>V17</th>\n",
              "      <th>V18</th>\n",
              "      <th>V19</th>\n",
              "      <th>V20</th>\n",
              "      <th>V21</th>\n",
              "      <th>V22</th>\n",
              "      <th>V23</th>\n",
              "      <th>V24</th>\n",
              "      <th>V25</th>\n",
              "      <th>V26</th>\n",
              "      <th>V27</th>\n",
              "      <th>V28</th>\n",
              "      <th>Amount</th>\n",
              "    </tr>\n",
              "  </thead>\n",
              "  <tbody>\n",
              "    <tr>\n",
              "      <th>count</th>\n",
              "      <td>2.848070e+05</td>\n",
              "      <td>2.848070e+05</td>\n",
              "      <td>2.848070e+05</td>\n",
              "      <td>2.848070e+05</td>\n",
              "      <td>2.848070e+05</td>\n",
              "      <td>2.848070e+05</td>\n",
              "      <td>2.848070e+05</td>\n",
              "      <td>2.848070e+05</td>\n",
              "      <td>2.848070e+05</td>\n",
              "      <td>2.848070e+05</td>\n",
              "      <td>2.848070e+05</td>\n",
              "      <td>2.848070e+05</td>\n",
              "      <td>2.848070e+05</td>\n",
              "      <td>2.848070e+05</td>\n",
              "      <td>2.848070e+05</td>\n",
              "      <td>2.848070e+05</td>\n",
              "      <td>2.848070e+05</td>\n",
              "      <td>2.848070e+05</td>\n",
              "      <td>2.848070e+05</td>\n",
              "      <td>2.848070e+05</td>\n",
              "      <td>2.848070e+05</td>\n",
              "      <td>2.848070e+05</td>\n",
              "      <td>2.848070e+05</td>\n",
              "      <td>2.848070e+05</td>\n",
              "      <td>2.848070e+05</td>\n",
              "      <td>2.848070e+05</td>\n",
              "      <td>2.848070e+05</td>\n",
              "      <td>2.848070e+05</td>\n",
              "      <td>2.848070e+05</td>\n",
              "      <td>2.848070e+05</td>\n",
              "    </tr>\n",
              "    <tr>\n",
              "      <th>mean</th>\n",
              "      <td>-1.137547e-15</td>\n",
              "      <td>-2.369347e-15</td>\n",
              "      <td>-9.299088e-17</td>\n",
              "      <td>6.265771e-15</td>\n",
              "      <td>1.966167e-16</td>\n",
              "      <td>1.757901e-15</td>\n",
              "      <td>-2.227124e-16</td>\n",
              "      <td>1.663279e-15</td>\n",
              "      <td>2.504277e-16</td>\n",
              "      <td>1.113356e-15</td>\n",
              "      <td>3.169574e-16</td>\n",
              "      <td>2.633087e-15</td>\n",
              "      <td>2.009085e-15</td>\n",
              "      <td>-9.906970e-16</td>\n",
              "      <td>-1.164815e-15</td>\n",
              "      <td>1.512182e-15</td>\n",
              "      <td>-8.075037e-19</td>\n",
              "      <td>6.119884e-16</td>\n",
              "      <td>1.391775e-15</td>\n",
              "      <td>-9.474671e-17</td>\n",
              "      <td>6.157864e-16</td>\n",
              "      <td>1.850826e-17</td>\n",
              "      <td>-2.630385e-15</td>\n",
              "      <td>-7.445328e-16</td>\n",
              "      <td>7.621335e-17</td>\n",
              "      <td>-1.055018e-15</td>\n",
              "      <td>-1.504105e-16</td>\n",
              "      <td>2.448796e-17</td>\n",
              "      <td>-3.725646e-17</td>\n",
              "      <td>2.278134e-13</td>\n",
              "    </tr>\n",
              "    <tr>\n",
              "      <th>std</th>\n",
              "      <td>1.000000e+00</td>\n",
              "      <td>1.000000e+00</td>\n",
              "      <td>1.000000e+00</td>\n",
              "      <td>1.000000e+00</td>\n",
              "      <td>1.000000e+00</td>\n",
              "      <td>1.000000e+00</td>\n",
              "      <td>1.000000e+00</td>\n",
              "      <td>1.000000e+00</td>\n",
              "      <td>1.000000e+00</td>\n",
              "      <td>1.000000e+00</td>\n",
              "      <td>1.000000e+00</td>\n",
              "      <td>1.000000e+00</td>\n",
              "      <td>1.000000e+00</td>\n",
              "      <td>1.000000e+00</td>\n",
              "      <td>1.000000e+00</td>\n",
              "      <td>1.000000e+00</td>\n",
              "      <td>1.000000e+00</td>\n",
              "      <td>1.000000e+00</td>\n",
              "      <td>1.000000e+00</td>\n",
              "      <td>1.000000e+00</td>\n",
              "      <td>1.000000e+00</td>\n",
              "      <td>1.000000e+00</td>\n",
              "      <td>1.000000e+00</td>\n",
              "      <td>1.000000e+00</td>\n",
              "      <td>1.000000e+00</td>\n",
              "      <td>1.000000e+00</td>\n",
              "      <td>1.000000e+00</td>\n",
              "      <td>1.000000e+00</td>\n",
              "      <td>1.000000e+00</td>\n",
              "      <td>1.000000e+00</td>\n",
              "    </tr>\n",
              "    <tr>\n",
              "      <th>min</th>\n",
              "      <td>-1.996580e+00</td>\n",
              "      <td>-2.879850e+01</td>\n",
              "      <td>-4.403521e+01</td>\n",
              "      <td>-3.187168e+01</td>\n",
              "      <td>-4.013912e+00</td>\n",
              "      <td>-8.240795e+01</td>\n",
              "      <td>-1.963602e+01</td>\n",
              "      <td>-3.520933e+01</td>\n",
              "      <td>-6.130242e+01</td>\n",
              "      <td>-1.222799e+01</td>\n",
              "      <td>-2.258187e+01</td>\n",
              "      <td>-4.700120e+00</td>\n",
              "      <td>-1.869865e+01</td>\n",
              "      <td>-5.819382e+00</td>\n",
              "      <td>-2.004425e+01</td>\n",
              "      <td>-4.915182e+00</td>\n",
              "      <td>-1.612532e+01</td>\n",
              "      <td>-2.962640e+01</td>\n",
              "      <td>-1.133264e+01</td>\n",
              "      <td>-8.861386e+00</td>\n",
              "      <td>-7.069134e+01</td>\n",
              "      <td>-4.741898e+01</td>\n",
              "      <td>-1.506562e+01</td>\n",
              "      <td>-7.175434e+01</td>\n",
              "      <td>-4.683630e+00</td>\n",
              "      <td>-1.975030e+01</td>\n",
              "      <td>-5.401088e+00</td>\n",
              "      <td>-5.590650e+01</td>\n",
              "      <td>-4.674604e+01</td>\n",
              "      <td>-3.532288e-01</td>\n",
              "    </tr>\n",
              "    <tr>\n",
              "      <th>25%</th>\n",
              "      <td>-8.552105e-01</td>\n",
              "      <td>-4.698909e-01</td>\n",
              "      <td>-3.624701e-01</td>\n",
              "      <td>-5.872131e-01</td>\n",
              "      <td>-5.993777e-01</td>\n",
              "      <td>-5.010677e-01</td>\n",
              "      <td>-5.766811e-01</td>\n",
              "      <td>-4.478852e-01</td>\n",
              "      <td>-1.746801e-01</td>\n",
              "      <td>-5.853621e-01</td>\n",
              "      <td>-4.917352e-01</td>\n",
              "      <td>-7.470211e-01</td>\n",
              "      <td>-4.058956e-01</td>\n",
              "      <td>-6.516187e-01</td>\n",
              "      <td>-4.439557e-01</td>\n",
              "      <td>-6.368121e-01</td>\n",
              "      <td>-5.341344e-01</td>\n",
              "      <td>-5.695599e-01</td>\n",
              "      <td>-5.951610e-01</td>\n",
              "      <td>-5.605359e-01</td>\n",
              "      <td>-2.746329e-01</td>\n",
              "      <td>-3.109428e-01</td>\n",
              "      <td>-7.473463e-01</td>\n",
              "      <td>-2.591780e-01</td>\n",
              "      <td>-5.854666e-01</td>\n",
              "      <td>-6.083990e-01</td>\n",
              "      <td>-6.780705e-01</td>\n",
              "      <td>-1.755050e-01</td>\n",
              "      <td>-1.604437e-01</td>\n",
              "      <td>-3.308395e-01</td>\n",
              "    </tr>\n",
              "    <tr>\n",
              "      <th>50%</th>\n",
              "      <td>-2.131450e-01</td>\n",
              "      <td>9.245335e-03</td>\n",
              "      <td>3.965677e-02</td>\n",
              "      <td>1.186122e-01</td>\n",
              "      <td>-1.401721e-02</td>\n",
              "      <td>-3.936675e-02</td>\n",
              "      <td>-2.058043e-01</td>\n",
              "      <td>3.241718e-02</td>\n",
              "      <td>1.871979e-02</td>\n",
              "      <td>-4.681161e-02</td>\n",
              "      <td>-8.533536e-02</td>\n",
              "      <td>-3.209262e-02</td>\n",
              "      <td>1.401445e-01</td>\n",
              "      <td>-1.363248e-02</td>\n",
              "      <td>5.278693e-02</td>\n",
              "      <td>5.251907e-02</td>\n",
              "      <td>7.579241e-02</td>\n",
              "      <td>-7.732590e-02</td>\n",
              "      <td>-4.338363e-03</td>\n",
              "      <td>4.588006e-03</td>\n",
              "      <td>-8.104691e-02</td>\n",
              "      <td>-4.009422e-02</td>\n",
              "      <td>9.345360e-03</td>\n",
              "      <td>-1.792417e-02</td>\n",
              "      <td>6.765666e-02</td>\n",
              "      <td>3.183234e-02</td>\n",
              "      <td>-1.081215e-01</td>\n",
              "      <td>3.325168e-03</td>\n",
              "      <td>3.406362e-02</td>\n",
              "      <td>-2.652710e-01</td>\n",
              "    </tr>\n",
              "    <tr>\n",
              "      <th>75%</th>\n",
              "      <td>9.372158e-01</td>\n",
              "      <td>6.716927e-01</td>\n",
              "      <td>4.867194e-01</td>\n",
              "      <td>6.774557e-01</td>\n",
              "      <td>5.250073e-01</td>\n",
              "      <td>4.433457e-01</td>\n",
              "      <td>2.991620e-01</td>\n",
              "      <td>4.611099e-01</td>\n",
              "      <td>2.740780e-01</td>\n",
              "      <td>5.435296e-01</td>\n",
              "      <td>4.168834e-01</td>\n",
              "      <td>7.245851e-01</td>\n",
              "      <td>6.187322e-01</td>\n",
              "      <td>6.656507e-01</td>\n",
              "      <td>5.144504e-01</td>\n",
              "      <td>7.088490e-01</td>\n",
              "      <td>5.971978e-01</td>\n",
              "      <td>4.705729e-01</td>\n",
              "      <td>5.974958e-01</td>\n",
              "      <td>5.637918e-01</td>\n",
              "      <td>1.725730e-01</td>\n",
              "      <td>2.537387e-01</td>\n",
              "      <td>7.283347e-01</td>\n",
              "      <td>2.364315e-01</td>\n",
              "      <td>7.257141e-01</td>\n",
              "      <td>6.727994e-01</td>\n",
              "      <td>4.996654e-01</td>\n",
              "      <td>2.255644e-01</td>\n",
              "      <td>2.371521e-01</td>\n",
              "      <td>-4.471699e-02</td>\n",
              "    </tr>\n",
              "    <tr>\n",
              "      <th>max</th>\n",
              "      <td>1.642055e+00</td>\n",
              "      <td>1.253349e+00</td>\n",
              "      <td>1.335773e+01</td>\n",
              "      <td>6.187982e+00</td>\n",
              "      <td>1.191872e+01</td>\n",
              "      <td>2.521409e+01</td>\n",
              "      <td>5.502005e+01</td>\n",
              "      <td>9.747807e+01</td>\n",
              "      <td>1.675150e+01</td>\n",
              "      <td>1.419492e+01</td>\n",
              "      <td>2.180754e+01</td>\n",
              "      <td>1.177502e+01</td>\n",
              "      <td>7.854665e+00</td>\n",
              "      <td>7.160723e+00</td>\n",
              "      <td>1.098145e+01</td>\n",
              "      <td>9.699100e+00</td>\n",
              "      <td>1.976040e+01</td>\n",
              "      <td>1.089500e+01</td>\n",
              "      <td>6.014331e+00</td>\n",
              "      <td>6.869402e+00</td>\n",
              "      <td>5.113455e+01</td>\n",
              "      <td>3.703465e+01</td>\n",
              "      <td>1.447302e+01</td>\n",
              "      <td>3.607661e+01</td>\n",
              "      <td>7.569671e+00</td>\n",
              "      <td>1.442529e+01</td>\n",
              "      <td>7.293962e+00</td>\n",
              "      <td>7.831926e+01</td>\n",
              "      <td>1.025432e+02</td>\n",
              "      <td>1.023621e+02</td>\n",
              "    </tr>\n",
              "  </tbody>\n",
              "</table>\n",
              "</div>"
            ],
            "text/plain": [
              "               Time            V1  ...           V28        Amount\n",
              "count  2.848070e+05  2.848070e+05  ...  2.848070e+05  2.848070e+05\n",
              "mean  -1.137547e-15 -2.369347e-15  ... -3.725646e-17  2.278134e-13\n",
              "std    1.000000e+00  1.000000e+00  ...  1.000000e+00  1.000000e+00\n",
              "min   -1.996580e+00 -2.879850e+01  ... -4.674604e+01 -3.532288e-01\n",
              "25%   -8.552105e-01 -4.698909e-01  ... -1.604437e-01 -3.308395e-01\n",
              "50%   -2.131450e-01  9.245335e-03  ...  3.406362e-02 -2.652710e-01\n",
              "75%    9.372158e-01  6.716927e-01  ...  2.371521e-01 -4.471699e-02\n",
              "max    1.642055e+00  1.253349e+00  ...  1.025432e+02  1.023621e+02\n",
              "\n",
              "[8 rows x 30 columns]"
            ]
          },
          "metadata": {
            "tags": []
          },
          "execution_count": 10
        }
      ]
    },
    {
      "cell_type": "code",
      "metadata": {
        "id": "Kq2514RN7hCz"
      },
      "source": [
        "data_len = len(data)\n",
        "train_data = data.iloc[:data_len*50//100]\n",
        "val_data = data.iloc[data_len*50//100:data_len*70//100]\n",
        "test_data = data.iloc[data_len*70//100:]\n",
        "labels_len = len(labels)\n",
        "train_labels = labels.iloc[:labels_len*50//100]\n",
        "val_labels = labels.iloc[labels_len*50//100:labels_len*70//100]\n",
        "test_labels = labels.iloc[labels_len*70//100:]"
      ],
      "execution_count": 11,
      "outputs": []
    },
    {
      "cell_type": "code",
      "metadata": {
        "id": "P22MwXLx7kDw"
      },
      "source": [
        "from tensorflow.keras import models\n",
        "from tensorflow.keras import layers\n",
        "import tensorflow as tf\n",
        "network = models.Sequential()\n",
        "network.add(layers.Dense(10,activation=\"tanh\",input_shape=(len(train_data.columns),) ))\n",
        "network.add(layers.Dense(8,activation=\"tanh\",input_shape=(data.shape[1],) ))\n",
        "network.add(layers.Dense(6,activation=\"tanh\",input_shape=(data.shape[1],) ))\n",
        "network.add(layers.Dense(1,activation=\"sigmoid\"))\n",
        "network.compile(optimizer='rmsprop',loss='binary_crossentropy',metrics=['acc'])"
      ],
      "execution_count": 12,
      "outputs": []
    },
    {
      "cell_type": "code",
      "metadata": {
        "colab": {
          "base_uri": "https://localhost:8080/"
        },
        "id": "SsHFPmPn7lCR",
        "outputId": "228fe337-cfb6-439e-f509-7102e49a62b3"
      },
      "source": [
        "network.summary()"
      ],
      "execution_count": 13,
      "outputs": [
        {
          "output_type": "stream",
          "text": [
            "Model: \"sequential\"\n",
            "_________________________________________________________________\n",
            "Layer (type)                 Output Shape              Param #   \n",
            "=================================================================\n",
            "dense (Dense)                (None, 10)                310       \n",
            "_________________________________________________________________\n",
            "dense_1 (Dense)              (None, 8)                 88        \n",
            "_________________________________________________________________\n",
            "dense_2 (Dense)              (None, 6)                 54        \n",
            "_________________________________________________________________\n",
            "dense_3 (Dense)              (None, 1)                 7         \n",
            "=================================================================\n",
            "Total params: 459\n",
            "Trainable params: 459\n",
            "Non-trainable params: 0\n",
            "_________________________________________________________________\n"
          ],
          "name": "stdout"
        }
      ]
    },
    {
      "cell_type": "code",
      "metadata": {
        "colab": {
          "base_uri": "https://localhost:8080/"
        },
        "id": "qaEx9KdL7nfx",
        "outputId": "c37e8b4c-1289-44ab-c0e0-c15d2e535f38"
      },
      "source": [
        "with tf.device('/device:GPU:1'):\n",
        "  %time MODEL = network.fit(train_data,train_labels,epochs=10,batch_size=256,validation_data=(val_data,val_labels))"
      ],
      "execution_count": 14,
      "outputs": [
        {
          "output_type": "stream",
          "text": [
            "Epoch 1/10\n",
            "557/557 [==============================] - 2s 2ms/step - loss: 0.2740 - acc: 0.8869 - val_loss: 0.6862 - val_acc: 0.7485\n",
            "Epoch 2/10\n",
            "557/557 [==============================] - 1s 2ms/step - loss: 0.0053 - acc: 0.9991 - val_loss: 0.8392 - val_acc: 0.7556\n",
            "Epoch 3/10\n",
            "557/557 [==============================] - 1s 2ms/step - loss: 0.0034 - acc: 0.9991 - val_loss: 0.9544 - val_acc: 0.7414\n",
            "Epoch 4/10\n",
            "557/557 [==============================] - 1s 2ms/step - loss: 0.0030 - acc: 0.9994 - val_loss: 0.9725 - val_acc: 0.7449\n",
            "Epoch 5/10\n",
            "557/557 [==============================] - 1s 2ms/step - loss: 0.0030 - acc: 0.9994 - val_loss: 0.9385 - val_acc: 0.7490\n",
            "Epoch 6/10\n",
            "557/557 [==============================] - 1s 2ms/step - loss: 0.0028 - acc: 0.9994 - val_loss: 0.9227 - val_acc: 0.7494\n",
            "Epoch 7/10\n",
            "557/557 [==============================] - 1s 2ms/step - loss: 0.0026 - acc: 0.9994 - val_loss: 0.8067 - val_acc: 0.7646\n",
            "Epoch 8/10\n",
            "557/557 [==============================] - 1s 2ms/step - loss: 0.0030 - acc: 0.9993 - val_loss: 0.7683 - val_acc: 0.7739\n",
            "Epoch 9/10\n",
            "557/557 [==============================] - 1s 2ms/step - loss: 0.0033 - acc: 0.9993 - val_loss: 0.6270 - val_acc: 0.7988\n",
            "Epoch 10/10\n",
            "557/557 [==============================] - 1s 2ms/step - loss: 0.0028 - acc: 0.9994 - val_loss: 0.5535 - val_acc: 0.8142\n",
            "CPU times: user 13 s, sys: 786 ms, total: 13.8 s\n",
            "Wall time: 11.3 s\n"
          ],
          "name": "stdout"
        }
      ]
    },
    {
      "cell_type": "code",
      "metadata": {
        "colab": {
          "base_uri": "https://localhost:8080/"
        },
        "id": "TNYDzuL47rR6",
        "outputId": "5b0740f6-ecdd-420c-c88a-be849ee9c79a"
      },
      "source": [
        "test_loss , test_acc = network.evaluate(test_data,test_labels)"
      ],
      "execution_count": 15,
      "outputs": [
        {
          "output_type": "stream",
          "text": [
            "2671/2671 [==============================] - 2s 900us/step - loss: 1.7188 - acc: 0.5506\n"
          ],
          "name": "stdout"
        }
      ]
    },
    {
      "cell_type": "code",
      "metadata": {
        "colab": {
          "base_uri": "https://localhost:8080/"
        },
        "id": "ZSU96nuz7vup",
        "outputId": "fcec438e-a766-4275-dfc6-b52ec1865cd0"
      },
      "source": [
        "test_labels[test_labels == 1]"
      ],
      "execution_count": 16,
      "outputs": [
        {
          "output_type": "execute_result",
          "data": {
            "text/plain": [
              "199896    1\n",
              "201098    1\n",
              "201601    1\n",
              "203324    1\n",
              "203328    1\n",
              "         ..\n",
              "279863    1\n",
              "280143    1\n",
              "280149    1\n",
              "281144    1\n",
              "281674    1\n",
              "Name: Class, Length: 108, dtype: int64"
            ]
          },
          "metadata": {
            "tags": []
          },
          "execution_count": 16
        }
      ]
    },
    {
      "cell_type": "code",
      "metadata": {
        "colab": {
          "base_uri": "https://localhost:8080/",
          "height": 312
        },
        "id": "GSZMl4J77yq5",
        "outputId": "33189289-5d61-4bbc-e86a-b03204ad0ee1"
      },
      "source": [
        "history_dict = MODEL.history\n",
        "acc_values = history_dict['acc']\n",
        "val_acc_values = history_dict['val_acc']\n",
        "epoches = np.arange(1,len(history_dict['acc'])+1)\n",
        "plt.plot(epoches,acc_values,'bo',label=\"Training Accuracy\")\n",
        "plt.plot(epoches,val_acc_values,'b',label=\"Validation Accuracy\")\n",
        "plt.title('Training and validation Accuracy')\n",
        "plt.xlabel(\"Epoches\")\n",
        "plt.ylabel(\"Accuracy\")\n",
        "plt.legend()"
      ],
      "execution_count": 17,
      "outputs": [
        {
          "output_type": "execute_result",
          "data": {
            "text/plain": [
              "<matplotlib.legend.Legend at 0x7f55b5df9ad0>"
            ]
          },
          "metadata": {
            "tags": []
          },
          "execution_count": 17
        },
        {
          "output_type": "display_data",
          "data": {
            "image/png": "[encoded data removed]",
            "text/plain": [
              "<Figure size 432x288 with 1 Axes>"
            ]
          },
          "metadata": {
            "tags": [],
            "needs_background": "light"
          }
        }
      ]
    },
    {
      "cell_type": "code",
      "metadata": {
        "colab": {
          "base_uri": "https://localhost:8080/"
        },
        "id": "wA2luKt57_zY",
        "outputId": "17890891-6eb5-4351-89bc-08036260bd1e"
      },
      "source": [
        "from tensorflow.keras import models\n",
        "from tensorflow.keras import layers\n",
        "import tensorflow as tf\n",
        "network1 = models.Sequential()\n",
        "network1.add(layers.Dense(30,activation=\"relu\",input_shape=(len(train_data.columns),) ))\n",
        "network1.add(layers.Dense(20,activation=\"relu\" ))\n",
        "network1.add(layers.Dense(10,activation=\"relu\"))\n",
        "network1.add(layers.Dense(1,activation=\"sigmoid\"))\n",
        "network1.compile(optimizer='rmsprop',loss='binary_crossentropy',metrics=['acc'])\n",
        "with tf.device('/device:GPU:1'):\n",
        "  %time MODEL1 = network1.fit(train_data,train_labels,epochs=10,batch_size=512,validation_data=(val_data,val_labels))"
      ],
      "execution_count": 18,
      "outputs": [
        {
          "output_type": "stream",
          "text": [
            "Epoch 1/10\n",
            "279/279 [==============================] - 1s 3ms/step - loss: 0.2132 - acc: 0.9209 - val_loss: 0.0179 - val_acc: 0.9992\n",
            "Epoch 2/10\n",
            "279/279 [==============================] - 1s 2ms/step - loss: 0.0048 - acc: 0.9992 - val_loss: 0.0146 - val_acc: 0.9991\n",
            "Epoch 3/10\n",
            "279/279 [==============================] - 1s 2ms/step - loss: 0.0035 - acc: 0.9993 - val_loss: 0.0127 - val_acc: 0.9989\n",
            "Epoch 4/10\n",
            "279/279 [==============================] - 1s 2ms/step - loss: 0.0034 - acc: 0.9992 - val_loss: 0.0117 - val_acc: 0.9985\n",
            "Epoch 5/10\n",
            "279/279 [==============================] - 1s 2ms/step - loss: 0.0027 - acc: 0.9993 - val_loss: 0.0108 - val_acc: 0.9989\n",
            "Epoch 6/10\n",
            "279/279 [==============================] - 1s 2ms/step - loss: 0.0024 - acc: 0.9994 - val_loss: 0.0127 - val_acc: 0.9981\n",
            "Epoch 7/10\n",
            "279/279 [==============================] - 1s 2ms/step - loss: 0.0028 - acc: 0.9995 - val_loss: 0.0140 - val_acc: 0.9970\n",
            "Epoch 8/10\n",
            "279/279 [==============================] - 1s 2ms/step - loss: 0.0026 - acc: 0.9993 - val_loss: 0.0126 - val_acc: 0.9976\n",
            "Epoch 9/10\n",
            "279/279 [==============================] - 1s 2ms/step - loss: 0.0021 - acc: 0.9996 - val_loss: 0.0166 - val_acc: 0.9962\n",
            "Epoch 10/10\n",
            "279/279 [==============================] - 1s 2ms/step - loss: 0.0021 - acc: 0.9995 - val_loss: 0.0145 - val_acc: 0.9970\n",
            "CPU times: user 8.42 s, sys: 434 ms, total: 8.85 s\n",
            "Wall time: 6.91 s\n"
          ],
          "name": "stdout"
        }
      ]
    },
    {
      "cell_type": "code",
      "metadata": {
        "colab": {
          "base_uri": "https://localhost:8080/",
          "height": 295
        },
        "id": "cDzC9j9c8D5S",
        "outputId": "1bb268e4-3733-42ea-e9da-5203f5104d05"
      },
      "source": [
        "history_dict = MODEL1.history\n",
        "acc_values = history_dict['acc']\n",
        "val_acc_values = history_dict['val_acc']\n",
        "epoches = np.arange(1,len(history_dict['acc'])+1)\n",
        "plt.plot(epoches,acc_values,'bo',label=\"Training Accuracy\")\n",
        "plt.plot(epoches,val_acc_values,'b',label=\"Validation Accuracy\")\n",
        "plt.title('Training and validation Accuracy')\n",
        "plt.xlabel(\"Epoches\")\n",
        "plt.ylabel(\"Accuracy\")\n",
        "plt.legend()\n",
        "plt.show()"
      ],
      "execution_count": 19,
      "outputs": [
        {
          "output_type": "display_data",
          "data": {
            "image/png": "[encoded data removed]",
            "text/plain": [
              "<Figure size 432x288 with 1 Axes>"
            ]
          },
          "metadata": {
            "tags": [],
            "needs_background": "light"
          }
        }
      ]
    },
    {
      "cell_type": "code",
      "metadata": {
        "colab": {
          "base_uri": "https://localhost:8080/"
        },
        "id": "_mAxK5hP8Gwl",
        "outputId": "f8308601-5033-449c-e3eb-db0714c95aa2"
      },
      "source": [
        "test_loss , test_acc = network1.evaluate(test_data,test_labels)"
      ],
      "execution_count": 20,
      "outputs": [
        {
          "output_type": "stream",
          "text": [
            "2671/2671 [==============================] - 2s 890us/step - loss: 0.0193 - acc: 0.9965\n"
          ],
          "name": "stdout"
        }
      ]
    },
    {
      "cell_type": "code",
      "metadata": {
        "colab": {
          "base_uri": "https://localhost:8080/"
        },
        "id": "eCIOrNTN8K0J",
        "outputId": "7a2a58d2-ad05-456a-d39d-8c2470ca156d"
      },
      "source": [
        "#prediction\n",
        "prediction_test_data = test_data\n",
        "predictions = network1.predict(prediction_test_data)\n",
        "hit = np.argmax(predictions) == np.array(test_labels)\n",
        "print(f\"{len(hit)} out of {len(predictions)} \")"
      ],
      "execution_count": 21,
      "outputs": [
        {
          "output_type": "stream",
          "text": [
            "85443 out of 85443 \n"
          ],
          "name": "stdout"
        }
      ]
    },
    {
      "cell_type": "code",
      "metadata": {
        "id": "L5S8p-mA8QQI"
      },
      "source": [
        "y_pred = (predictions > 0.5).astype('u8')"
      ],
      "execution_count": 22,
      "outputs": []
    },
    {
      "cell_type": "code",
      "metadata": {
        "colab": {
          "base_uri": "https://localhost:8080/"
        },
        "id": "-zwkfJZF8Ujh",
        "outputId": "71a9e83a-0ff2-4b9c-eaee-fe698a27414a"
      },
      "source": [
        "print(f\"Accuracy is upto {test_acc*100}%\")"
      ],
      "execution_count": 23,
      "outputs": [
        {
          "output_type": "stream",
          "text": [
            "Accuracy is upto 99.64771866798401%\n"
          ],
          "name": "stdout"
        }
      ]
    },
    {
      "cell_type": "code",
      "metadata": {
        "colab": {
          "base_uri": "https://localhost:8080/"
        },
        "id": "dw_dBm0T8Wv5",
        "outputId": "33840dc9-bf60-469d-8f5f-d34bff296a4e"
      },
      "source": [
        "tf.math.confusion_matrix(\n",
        "    test_labels, y_pred, num_classes=None, weights=None, dtype=tf.dtypes.int32,\n",
        "    name=None\n",
        ")"
      ],
      "execution_count": 24,
      "outputs": [
        {
          "output_type": "execute_result",
          "data": {
            "text/plain": [
              "<tf.Tensor: shape=(2, 2), dtype=int32, numpy=\n",
              "array([[85054,   281],\n",
              "       [   20,    88]], dtype=int32)>"
            ]
          },
          "metadata": {
            "tags": []
          },
          "execution_count": 24
        }
      ]
    },
    {
      "cell_type": "code",
      "metadata": {
        "id": "WY8JMjB08ebh"
      },
      "source": [
        "p=np.argmax(predictions)"
      ],
      "execution_count": 26,
      "outputs": []
    }
  ]
}